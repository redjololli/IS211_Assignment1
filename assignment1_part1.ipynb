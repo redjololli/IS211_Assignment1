{
 "cells": [
  {
   "cell_type": "code",
   "execution_count": 1,
   "metadata": {},
   "outputs": [],
   "source": [
    "\"\"\"  IS211_Assignment1 \"\"\"\n",
    "\n",
    "def listDivide(numbers, divide = 2):\n",
    "    \"\"\"Function with parameters: list numbers and  int divide\"\"\"\n",
    "    mylist = []\n",
    "    for number in numbers:\n",
    "        if number % divide ==0:\n",
    "             mylist.append(number)\n",
    "    return len(mylist)\n",
    "    \n",
    "\n",
    "class ListDivideExceptio(Exception):\n",
    "    \n",
    "    pass\n",
    "    \n",
    "    \n",
    "def testListDivide():\n",
    "    \n",
    "    \n",
    "    tests = [\n",
    "        ([1,2,3,4,5]),\n",
    "        ([2,4,6,8,10]),\n",
    "        ([30, 54, 63,98, 100]),\n",
    "        ([]),\n",
    "        ([1,2,3,4,5], 1)\n",
    "        ]\n",
    "    for numbers in tests:\n",
    "        if listDivide != divide:\n",
    "            raise ListDivideException( \"Raise Alarm\" )\n",
    "    \n",
    "        \n",
    "        "
   ]
  },
  {
   "cell_type": "code",
   "execution_count": 2,
   "metadata": {},
   "outputs": [
    {
     "data": {
      "text/plain": [
       "2"
      ]
     },
     "execution_count": 2,
     "metadata": {},
     "output_type": "execute_result"
    }
   ],
   "source": [
    "listDivide([1,2,3,4,5])"
   ]
  },
  {
   "cell_type": "code",
   "execution_count": 4,
   "metadata": {},
   "outputs": [
    {
     "data": {
      "text/plain": [
       "5"
      ]
     },
     "execution_count": 4,
     "metadata": {},
     "output_type": "execute_result"
    }
   ],
   "source": [
    "listDivide([2,4,6,8,10])"
   ]
  },
  {
   "cell_type": "code",
   "execution_count": 5,
   "metadata": {},
   "outputs": [
    {
     "data": {
      "text/plain": [
       "2"
      ]
     },
     "execution_count": 5,
     "metadata": {},
     "output_type": "execute_result"
    }
   ],
   "source": [
    "listDivide([30, 54, 63,98, 100], divide=10)"
   ]
  },
  {
   "cell_type": "code",
   "execution_count": 7,
   "metadata": {},
   "outputs": [
    {
     "data": {
      "text/plain": [
       "0"
      ]
     },
     "execution_count": 7,
     "metadata": {},
     "output_type": "execute_result"
    }
   ],
   "source": [
    "listDivide([])"
   ]
  },
  {
   "cell_type": "code",
   "execution_count": 8,
   "metadata": {},
   "outputs": [
    {
     "data": {
      "text/plain": [
       "5"
      ]
     },
     "execution_count": 8,
     "metadata": {},
     "output_type": "execute_result"
    }
   ],
   "source": [
    "listDivide([1,2,3,4,5], 1)"
   ]
  },
  {
   "cell_type": "code",
   "execution_count": null,
   "metadata": {},
   "outputs": [],
   "source": []
  }
 ],
 "metadata": {
  "kernelspec": {
   "display_name": "Python 3",
   "language": "python",
   "name": "python3"
  },
  "language_info": {
   "codemirror_mode": {
    "name": "ipython",
    "version": 3
   },
   "file_extension": ".py",
   "mimetype": "text/x-python",
   "name": "python",
   "nbconvert_exporter": "python",
   "pygments_lexer": "ipython3",
   "version": "3.7.3"
  }
 },
 "nbformat": 4,
 "nbformat_minor": 2
}
