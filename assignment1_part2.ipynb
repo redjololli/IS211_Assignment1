{
 "cells": [
  {
   "cell_type": "code",
   "execution_count": 4,
   "metadata": {},
   "outputs": [
    {
     "name": "stdout",
     "output_type": "stream",
     "text": [
      "Of Mice and Menwritten by John Steinbeck\n",
      "To Kill a Mockingbirdwritten by Harper Lee\n"
     ]
    }
   ],
   "source": [
    "class Book:\n",
    "    \n",
    "    def __init__(self, author, title):\n",
    "        self.author = author\n",
    "        self.title = title\n",
    "        return\n",
    "    def display(self):\n",
    "        return self.title + \"written by \" + self.author\n",
    "\n",
    "book1 = Book(\"John Steinbeck\", \"Of Mice and Men\")\n",
    "book2 = Book(\"Harper Lee\", \"To Kill a Mockingbird\")\n",
    "\n",
    "print(book1.display())\n",
    "print(book2.display())\n"
   ]
  }
 ],
 "metadata": {
  "kernelspec": {
   "display_name": "Python 3",
   "language": "python",
   "name": "python3"
  },
  "language_info": {
   "codemirror_mode": {
    "name": "ipython",
    "version": 3
   },
   "file_extension": ".py",
   "mimetype": "text/x-python",
   "name": "python",
   "nbconvert_exporter": "python",
   "pygments_lexer": "ipython3",
   "version": "3.7.3"
  }
 },
 "nbformat": 4,
 "nbformat_minor": 2
}
